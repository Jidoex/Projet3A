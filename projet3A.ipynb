{
 "cells": [
  {
   "cell_type": "markdown",
   "id": "98bb2f4c-bd0a-4bbd-a5b7-ce1386c6577f",
   "metadata": {},
   "source": [
    "# Projet 3A"
   ]
  },
  {
   "cell_type": "markdown",
   "id": "9c4467a4-0c82-4f30-8704-19da35d7349a",
   "metadata": {},
   "source": [
    "## 1. Tests OpenCV"
   ]
  },
  {
   "cell_type": "markdown",
   "id": "894e7ea2-c6e0-46d4-8fe5-3640819c9491",
   "metadata": {},
   "source": [
    "texte"
   ]
  },
  {
   "cell_type": "code",
   "execution_count": null,
   "id": "78fb273f-def7-4f45-92ab-e0e4fe4f5e87",
   "metadata": {},
   "outputs": [],
   "source": []
  },
  {
   "cell_type": "markdown",
   "id": "44fe7f8a-1bd6-473a-88f3-39d521cebf97",
   "metadata": {},
   "source": [
    "## 2. Détection d'Horizons"
   ]
  },
  {
   "cell_type": "markdown",
   "id": "a0a548ab-7766-4355-9c8a-262e71a93d47",
   "metadata": {},
   "source": [
    "texte"
   ]
  },
  {
   "cell_type": "code",
   "execution_count": null,
   "id": "0229030b-bc66-4333-9b17-95f6a06d9d57",
   "metadata": {},
   "outputs": [],
   "source": []
  },
  {
   "cell_type": "markdown",
   "id": "e784f713-2725-4f99-8dae-1b5cf473a7b4",
   "metadata": {},
   "source": [
    "## 3. Extraction de contour des cailloux"
   ]
  },
  {
   "cell_type": "markdown",
   "id": "e4818f31-3549-4de2-9f64-4b64e7314031",
   "metadata": {},
   "source": [
    "Step 1 : Convert from RGB to HSV, closer to Munsell colors\n",
    "\n",
    "    Hue = color attribute range from 0 to 360 degrees, rock fragments with low contrast.\n",
    "    Saturation = purity of the Hue, ranges from 0 to 100%. Not so affected by lighting, so cool for high contrast fragments.\n",
    "    Value = color brightness or intensity, ranges from 0 to 100%. After shadow removal can well be use for medium contrast rock frag.\n",
    "\n",
    "Step 2 : Apply filters. Shadow removal for Value channel. Gaussian filter to fuzzy small details and make RFs easier to detect. Maximu filter have better contrast between smaller particles and the soil matrix.\n",
    "\n",
    "Step 3 : UDW algorithm"
   ]
  },
  {
   "cell_type": "code",
   "execution_count": null,
   "id": "6a1370f6-f3ae-4378-80bf-a71889f35c83",
   "metadata": {},
   "outputs": [],
   "source": []
  }
 ],
 "metadata": {
  "kernelspec": {
   "display_name": "Python 3 (ipykernel)",
   "language": "python",
   "name": "python3"
  },
  "language_info": {
   "codemirror_mode": {
    "name": "ipython",
    "version": 3
   },
   "file_extension": ".py",
   "mimetype": "text/x-python",
   "name": "python",
   "nbconvert_exporter": "python",
   "pygments_lexer": "ipython3",
   "version": "3.11.2"
  }
 },
 "nbformat": 4,
 "nbformat_minor": 5
}
