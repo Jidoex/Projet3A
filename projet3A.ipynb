{
 "cells": [
  {
   "cell_type": "markdown",
   "id": "98bb2f4c-bd0a-4bbd-a5b7-ce1386c6577f",
   "metadata": {},
   "source": [
    "# Projet 3A"
   ]
  },
  {
   "cell_type": "markdown",
   "id": "9c4467a4-0c82-4f30-8704-19da35d7349a",
   "metadata": {},
   "source": [
    "## 1. Tests OpenCV"
   ]
  },
  {
   "cell_type": "code",
   "execution_count": null,
   "id": "78fb273f-def7-4f45-92ab-e0e4fe4f5e87",
   "metadata": {},
   "outputs": [],
   "source": []
  },
  {
   "cell_type": "markdown",
   "id": "e784f713-2725-4f99-8dae-1b5cf473a7b4",
   "metadata": {},
   "source": [
    "## 2. Extraction de contour des cailloux"
   ]
  },
  {
   "cell_type": "code",
   "execution_count": null,
   "id": "6a1370f6-f3ae-4378-80bf-a71889f35c83",
   "metadata": {},
   "outputs": [],
   "source": []
  },
  {
   "cell_type": "markdown",
   "id": "353ed684-b284-4b50-9bd5-a2f670c0c3c8",
   "metadata": {},
   "source": [
    "## 3. Extraction de contour des racines"
   ]
  },
  {
   "cell_type": "code",
   "execution_count": null,
   "id": "bcb5d70a-8625-44b1-8e75-d545d97bcbc9",
   "metadata": {},
   "outputs": [],
   "source": []
  }
 ],
 "metadata": {
  "kernelspec": {
   "display_name": "Python 3 (ipykernel)",
   "language": "python",
   "name": "python3"
  },
  "language_info": {
   "codemirror_mode": {
    "name": "ipython",
    "version": 3
   },
   "file_extension": ".py",
   "mimetype": "text/x-python",
   "name": "python",
   "nbconvert_exporter": "python",
   "pygments_lexer": "ipython3",
   "version": "3.11.2"
  }
 },
 "nbformat": 4,
 "nbformat_minor": 5
}
